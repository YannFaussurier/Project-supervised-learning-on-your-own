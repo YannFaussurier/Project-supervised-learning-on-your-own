{
  "cells": [
    {
      "attachments": {},
      "cell_type": "markdown",
      "metadata": {
        "id": "f6jpo87Qvb_N"
      },
      "source": [
        "# Project Unsupervised learning on your own\n",
        "\n",
        "A work on text classification by Yann Faussurier.\n",
        "\n",
        "this notebook contains annotation that was made by me and might have been reused in the report"
      ]
    },
    {
      "cell_type": "markdown",
      "metadata": {
        "id": "7Cs4Fihsvb_O"
      },
      "source": [
        "In this exercise, we will try to implement a code able to give the sentiment of a given text.\n",
        "\n",
        "We will use a database composed of three csv file which contains reddit posts and comments.\n",
        "\n",
        "First, we will import the needed libraries for this which are numpy, pandas and tensorflow"
      ]
    },
    {
      "cell_type": "code",
      "execution_count": 1,
      "metadata": {
        "id": "u6R8qUHYvb_P"
      },
      "outputs": [],
      "source": [
        "%matplotlib inline\n",
        "import json\n",
        "import tensorflow as tf\n",
        "import pandas as pd \n",
        "import numpy as np\n",
        "\n",
        "from tensorflow.keras.preprocessing.text import Tokenizer\n",
        "from tensorflow.keras.preprocessing.sequence import pad_sequences"
      ]
    },
    {
      "cell_type": "markdown",
      "metadata": {
        "id": "xe8TzNGAvb_P"
      },
      "source": [
        "Now because our dataset is placed in three different files, we will load them into panda datasets in order to concatenate all of them and get a unique dataframe for our data : "
      ]
    },
    {
      "cell_type": "code",
      "execution_count": 3,
      "metadata": {
        "id": "abVUabqQvb_Q"
      },
      "outputs": [],
      "source": [
        "df1=pd.read_csv(\"goemotions_1.csv\")\n",
        "df2=pd.read_csv(\"goemotions_2.csv\")\n",
        "df3=pd.read_csv(\"goemotions_3.csv\")\n",
        "df=pd.concat([df1,df2,df3])"
      ]
    },
    {
      "cell_type": "markdown",
      "metadata": {
        "id": "HYSTxF8Hvb_Q"
      },
      "source": [
        "We will now define our hyperparameters based on the example that was given with sarcasm, we will set vocab_size to 1000, embedding_dim to 16.\n",
        "\n",
        "After some trial and errors, we have set max_length to 80 because it worked better.\n",
        "\n",
        "We also set training_size to 190000 instead of 200000 in order to have a bigger testing_set, the number of data being 211225 it would let about 20 000 testing data."
      ]
    },
    {
      "cell_type": "code",
      "execution_count": 4,
      "metadata": {
        "id": "IfIpaixHvb_Q"
      },
      "outputs": [],
      "source": [
        "vocab_size = 1000\n",
        "embedding_dim = 16\n",
        "max_length = 80\n",
        "trunc_type='post'\n",
        "padding_type='post'\n",
        "oov_tok = \"<OOV>\"\n",
        "training_size = 190000"
      ]
    },
    {
      "cell_type": "markdown",
      "metadata": {
        "id": "GMcl_J86vb_Q"
      },
      "source": [
        "Now we need to define the data that we will put into our neural network, we will set the 27 sentiment as target, and the input will be the text of the reddit comment/post"
      ]
    },
    {
      "cell_type": "code",
      "execution_count": 5,
      "metadata": {
        "id": "E8-XUyV3vb_Q"
      },
      "outputs": [],
      "source": [
        "sentences = df['text']\n",
        "\n",
        "labels=df.iloc[:,9:37]"
      ]
    },
    {
      "cell_type": "markdown",
      "metadata": {
        "id": "6rOrJUyivb_R"
      },
      "source": [
        "We can now divide our data into a training and a test set using the parameters that we have defined above"
      ]
    },
    {
      "cell_type": "code",
      "execution_count": 6,
      "metadata": {
        "id": "GfI5sd7pvb_R"
      },
      "outputs": [],
      "source": [
        "training_sentences = sentences[0:training_size]\n",
        "testing_sentences = sentences[training_size:]\n",
        "training_labels = labels[0:training_size]\n",
        "testing_labels = labels[training_size:]"
      ]
    },
    {
      "cell_type": "markdown",
      "metadata": {
        "id": "Wq5V5OcEvb_R"
      },
      "source": [
        "In a similar way as we did with the sarcasm dataset, we will use the tokenizer to tranform the vocabulary into tokens, and fit those tokens on the sentences of our data.\n",
        "once we have done that we use the pad_sequences function to make each of our sentences the same length."
      ]
    },
    {
      "cell_type": "code",
      "execution_count": 7,
      "metadata": {
        "id": "oQR4aWbPvb_R"
      },
      "outputs": [],
      "source": [
        "tokenizer = Tokenizer(num_words=vocab_size, oov_token=oov_tok)\n",
        "tokenizer.fit_on_texts(training_sentences)\n",
        "\n",
        "word_index = tokenizer.word_index\n",
        "\n",
        "training_sequences = tokenizer.texts_to_sequences(training_sentences)\n",
        "training_padded = pad_sequences(training_sequences, maxlen=max_length, padding=padding_type, truncating=trunc_type)\n",
        "\n",
        "testing_sequences = tokenizer.texts_to_sequences(testing_sentences)\n",
        "testing_padded = pad_sequences(testing_sequences, maxlen=max_length, padding=padding_type, truncating=trunc_type)"
      ]
    },
    {
      "cell_type": "code",
      "execution_count": 8,
      "metadata": {
        "id": "LOWDtWaZvb_R"
      },
      "outputs": [],
      "source": [
        "training_padded = np.array(training_padded)\n",
        "training_labels = np.array(training_labels)\n",
        "testing_padded = np.array(testing_padded)\n",
        "testing_labels = np.array(testing_labels)"
      ]
    },
    {
      "cell_type": "markdown",
      "metadata": {
        "id": "m6xKZ6rnvb_S"
      },
      "source": [
        "# Model Training"
      ]
    },
    {
      "cell_type": "markdown",
      "metadata": {
        "id": "WV-yCxoBvb_S"
      },
      "source": [
        "Because the fit will take a long time, we create a callback that will stop the training if the loss on the validation set doesnt change epochs by epochs"
      ]
    },
    {
      "cell_type": "code",
      "execution_count": 9,
      "metadata": {
        "id": "j_zIQuPYvb_S"
      },
      "outputs": [],
      "source": [
        "callback = tf.keras.callbacks.EarlyStopping(monitor='val_loss', patience=2)"
      ]
    },
    {
      "cell_type": "code",
      "execution_count": 10,
      "metadata": {
        "id": "-4WQDZ5hvb_S"
      },
      "outputs": [],
      "source": [
        "# model = tf.keras.Sequential([\n",
        "#     tf.keras.layers.Embedding(vocab_size, embedding_dim, input_length=max_length),\n",
        "#     tf.keras.layers.SimpleRNN(15,return_sequences=True),\n",
        "#     tf.keras.layers.SimpleRNN(15),\n",
        "#     tf.keras.layers.Dense(28, activation='sigmoid')\n",
        "# ])\n",
        "# model.compile(loss='categorical_crossentropy',optimizer='sgd',metrics=['accuracy'])"
      ]
    },
    {
      "cell_type": "code",
      "execution_count": 11,
      "metadata": {
        "id": "sBD89Y96vb_S"
      },
      "outputs": [],
      "source": [
        "# #opt = tf.keras.optimizers.SGD(learning_rate=0.0001)\n",
        "# LOSS=tf.keras.losses.BinaryCrossentropy(),\n",
        "# model = tf.keras.Sequential([\n",
        "#     tf.keras.layers.Embedding(vocab_size, embedding_dim, input_length=max_length),\n",
        "#     tf.keras.layers.LSTM(100,dropout=0.5),\n",
        "#     tf.keras.layers.Dense(28, activation='sigmoid')\n",
        "# ])\n",
        "\n",
        "# model.compile(loss=LOSS,optimizer=\"adam\",metrics=['accuracy'])"
      ]
    },
    {
      "cell_type": "markdown",
      "metadata": {
        "id": "3uOCE94Qvb_S"
      },
      "source": [
        "Now we will create our neural network, to do so we need to think about our data.\n",
        "Because we want to associate each comment with ONE sentiment, we are tempted to use multi-label encoding.\n",
        "\n",
        "The problem is that our dataset contains duplicate, one tweet can appear multiple time and thus be associated with multiple sentiment.\n",
        "\n",
        "This create a problem when we try to use CategoricalCrossentropyLosses and a softMax activation, if we do so, the loss will litteraly explode, because it will try to classify every comment with ONE emotion, but the duplicate will will tell the model that some comments correspond to two or three emotions.\n",
        "\n",
        "Two solution offer to us, we could erase every duplicate and go back to single label encoding but a more simple solution would be to use a BinaryCrossentropyLosses and a sigmoid function : The sigmoid function does not have problems with duplicates, because every time it will encounter a tweet it it will reclassify it without taking in account the precedent encounter (i don't know if it make sense)"
      ]
    },
    {
      "cell_type": "code",
      "execution_count": 12,
      "metadata": {
        "id": "H1JzToMUvb_T"
      },
      "outputs": [],
      "source": [
        "\n",
        "\n",
        "LOSS=tf.keras.losses.BinaryCrossentropy(),\n",
        "model = tf.keras.Sequential([\n",
        "    tf.keras.layers.Embedding(vocab_size, embedding_dim, input_length=max_length),\n",
        "    tf.keras.layers.Flatten(),\n",
        "    tf.keras.layers.Dropout(.3),\n",
        "    tf.keras.layers.Dense(35, activation='relu'),\n",
        "    tf.keras.layers.Dropout(.3),\n",
        "    tf.keras.layers.Dense(28, activation='sigmoid')\n",
        "])\n",
        "\n",
        "model.compile(loss=LOSS,optimizer=\"adam\",metrics=['accuracy'])"
      ]
    },
    {
      "cell_type": "code",
      "execution_count": 13,
      "metadata": {
        "colab": {
          "base_uri": "https://localhost:8080/"
        },
        "id": "XXk7x2_2vb_T",
        "outputId": "25061ee8-415e-45ab-b54e-725c320d318d"
      },
      "outputs": [
        {
          "name": "stdout",
          "output_type": "stream",
          "text": [
            "Model: \"sequential\"\n",
            "_________________________________________________________________\n",
            " Layer (type)                Output Shape              Param #   \n",
            "=================================================================\n",
            " embedding (Embedding)       (None, 80, 16)            16000     \n",
            "                                                                 \n",
            " flatten (Flatten)           (None, 1280)              0         \n",
            "                                                                 \n",
            " dropout (Dropout)           (None, 1280)              0         \n",
            "                                                                 \n",
            " dense (Dense)               (None, 35)                44835     \n",
            "                                                                 \n",
            " dropout_1 (Dropout)         (None, 35)                0         \n",
            "                                                                 \n",
            " dense_1 (Dense)             (None, 28)                1008      \n",
            "                                                                 \n",
            "=================================================================\n",
            "Total params: 61,843\n",
            "Trainable params: 61,843\n",
            "Non-trainable params: 0\n",
            "_________________________________________________________________\n"
          ]
        }
      ],
      "source": [
        "model.summary()"
      ]
    },
    {
      "cell_type": "code",
      "execution_count": 14,
      "metadata": {
        "colab": {
          "base_uri": "https://localhost:8080/"
        },
        "id": "_XVfBnxIvb_U",
        "outputId": "f54be26e-6ad0-438d-f69f-7e0fd764371c"
      },
      "outputs": [
        {
          "name": "stdout",
          "output_type": "stream",
          "text": [
            "Epoch 1/10\n",
            "5938/5938 - 22s - loss: 0.1550 - accuracy: 0.2968 - val_loss: 0.1368 - val_accuracy: 0.3438 - 22s/epoch - 4ms/step\n",
            "Epoch 2/10\n",
            "5938/5938 - 20s - loss: 0.1397 - accuracy: 0.3437 - val_loss: 0.1326 - val_accuracy: 0.3574 - 20s/epoch - 3ms/step\n",
            "Epoch 3/10\n",
            "5938/5938 - 21s - loss: 0.1369 - accuracy: 0.3514 - val_loss: 0.1306 - val_accuracy: 0.3646 - 21s/epoch - 3ms/step\n",
            "Epoch 4/10\n",
            "5938/5938 - 21s - loss: 0.1354 - accuracy: 0.3557 - val_loss: 0.1295 - val_accuracy: 0.3691 - 21s/epoch - 4ms/step\n",
            "Epoch 5/10\n",
            "5938/5938 - 21s - loss: 0.1346 - accuracy: 0.3576 - val_loss: 0.1290 - val_accuracy: 0.3755 - 21s/epoch - 3ms/step\n",
            "Epoch 6/10\n",
            "5938/5938 - 20s - loss: 0.1338 - accuracy: 0.3596 - val_loss: 0.1285 - val_accuracy: 0.3739 - 20s/epoch - 3ms/step\n",
            "Epoch 7/10\n",
            "5938/5938 - 20s - loss: 0.1334 - accuracy: 0.3613 - val_loss: 0.1282 - val_accuracy: 0.3776 - 20s/epoch - 3ms/step\n",
            "Epoch 8/10\n",
            "5938/5938 - 21s - loss: 0.1329 - accuracy: 0.3630 - val_loss: 0.1283 - val_accuracy: 0.3772 - 21s/epoch - 3ms/step\n",
            "Epoch 9/10\n",
            "5938/5938 - 20s - loss: 0.1326 - accuracy: 0.3624 - val_loss: 0.1276 - val_accuracy: 0.3770 - 20s/epoch - 3ms/step\n",
            "Epoch 10/10\n",
            "5938/5938 - 20s - loss: 0.1324 - accuracy: 0.3639 - val_loss: 0.1275 - val_accuracy: 0.3791 - 20s/epoch - 3ms/step\n"
          ]
        }
      ],
      "source": [
        "num_epochs = 10\n",
        "history = model.fit(training_padded, training_labels, epochs=num_epochs, validation_data=(testing_padded, testing_labels), verbose=2,callbacks=[callback])"
      ]
    },
    {
      "cell_type": "markdown",
      "metadata": {
        "id": "TlZOWfRhvb_U"
      },
      "source": [
        "We can see that obtain a val accuracy of 0.3764 after 10 epochs, this is not a lot, but considering the complexity of classifying emotions it's not so bad."
      ]
    },
    {
      "cell_type": "code",
      "execution_count": 15,
      "metadata": {
        "colab": {
          "base_uri": "https://localhost:8080/",
          "height": 541
        },
        "id": "x74YlOZgvb_U",
        "outputId": "0ae7a236-86c1-4036-95ce-39252d463b99"
      },
      "outputs": [
        {
          "data": {
            "image/png": "[encoded data removed]",
            "text/plain": [
              "<Figure size 432x288 with 1 Axes>"
            ]
          },
          "metadata": {
            "needs_background": "light"
          },
          "output_type": "display_data"
        },
        {
          "data": {
            "image/png": "[encoded data removed]",
            "text/plain": [
              "<Figure size 432x288 with 1 Axes>"
            ]
          },
          "metadata": {
            "needs_background": "light"
          },
          "output_type": "display_data"
        }
      ],
      "source": [
        "import matplotlib.pyplot as plt\n",
        "\n",
        "def plot_graphs(history, string):\n",
        "  plt.plot(history.history[string])\n",
        "  plt.plot(history.history['val_'+string])\n",
        "  plt.xlabel(\"Epochs\")\n",
        "  plt.ylabel(string)\n",
        "  plt.legend([string, 'val_'+string])\n",
        "  plt.show()\n",
        "  \n",
        "plot_graphs(history, \"accuracy\")\n",
        "plot_graphs(history, \"loss\")"
      ]
    },
    {
      "cell_type": "markdown",
      "metadata": {
        "id": "Or9_J3Wdvb_U"
      },
      "source": [
        "Now we can question the data itself, by looking at the tweet and the emotions associated to it, it appear that 27 emotions is much more complexes than needed, some emotions are confusing to put on a tweet, and it seems overcomplicated to try to classify all theses comments with 27 commplexes emotions.\n",
        "\n",
        "One idea that could solve this problem would be to simplify the 27 emotions to more basics emotions.\n",
        "\n",
        "We chose to simplify the 27 emotions to 6 emotions : \n",
        "-Happy\n",
        "-Fear or anger\n",
        "-Shock\n",
        "-Love\n",
        "-Neutral\n",
        "-Sadness\n",
        "\n",
        "the simplification is of course not perfect and prone to improvement but let's see what we can get with this idea : "
      ]
    },
    {
      "cell_type": "code",
      "execution_count": 16,
      "metadata": {
        "id": "vVag36o9vb_U"
      },
      "outputs": [],
      "source": [
        "df['Happy']=np.where((df['optimism']==1) | (df['admiration']==1) | (df['excitement']==1) | (df['approval']==1) | (df['relief']==1) | (df['amusement']==1) | (df['gratitude']==1) | (df['joy']==1),1,0)\n",
        "\n",
        "df['Fear or anger']=np.where((df['anger']==1) | (df['annoyance']==1) | (df['disapproval']==1) | (df['fear']==1),1,0)\n",
        "\n",
        "df['Shock']=np.where((df['confusion']==1) | (df['disappointment']==1) | (df['disgust']==1) | (df['embarrassment']==1) | (df['surprise']==1),1,0)\n",
        "\n",
        "df['Love']=np.where((df['love']==1) | (df['desire']==1) | (df['caring']==1),1,0)\n",
        "\n",
        "df['Neutral']=np.where((df['neutral']==1) | (df['realization']==1) | (df['disgust']==1) | (df['embarrassment']==1) | (df['surprise']==1) | (df['curiosity']==1),1,0)\n",
        "\n",
        "df['Sadness']=np.where((df['sadness']==1) | (df['remorse']==1) | (df['grief']==1),1,0)\n",
        "\n"
      ]
    },
    {
      "cell_type": "code",
      "execution_count": 17,
      "metadata": {
        "id": "Xvh8nwJdvb_U"
      },
      "outputs": [],
      "source": [
        "labels = df.iloc[:,37:]"
      ]
    },
    {
      "cell_type": "code",
      "execution_count": 18,
      "metadata": {
        "id": "5vCLiq5xvb_U"
      },
      "outputs": [],
      "source": [
        "LOSS=tf.keras.losses.BinaryCrossentropy(),\n",
        "model = tf.keras.Sequential([\n",
        "    tf.keras.layers.Embedding(vocab_size, embedding_dim, input_length=max_length),\n",
        "    tf.keras.layers.Flatten(),\n",
        "    tf.keras.layers.Dropout(.3),\n",
        "    tf.keras.layers.Dense(35, activation='relu'),\n",
        "    tf.keras.layers.Dropout(.3),\n",
        "    tf.keras.layers.Dense(6, activation='sigmoid')\n",
        "])\n",
        "\n",
        "model.compile(loss=LOSS,optimizer=\"adam\",metrics=['accuracy'])"
      ]
    },
    {
      "cell_type": "code",
      "execution_count": 19,
      "metadata": {
        "colab": {
          "base_uri": "https://localhost:8080/"
        },
        "id": "ILfVuJFLvb_V",
        "outputId": "763b00fe-6d37-4dbc-9e0e-df50eb292c25"
      },
      "outputs": [
        {
          "name": "stdout",
          "output_type": "stream",
          "text": [
            "Model: \"sequential_1\"\n",
            "_________________________________________________________________\n",
            " Layer (type)                Output Shape              Param #   \n",
            "=================================================================\n",
            " embedding_1 (Embedding)     (None, 80, 16)            16000     \n",
            "                                                                 \n",
            " flatten_1 (Flatten)         (None, 1280)              0         \n",
            "                                                                 \n",
            " dropout_2 (Dropout)         (None, 1280)              0         \n",
            "                                                                 \n",
            " dense_2 (Dense)             (None, 35)                44835     \n",
            "                                                                 \n",
            " dropout_3 (Dropout)         (None, 35)                0         \n",
            "                                                                 \n",
            " dense_3 (Dense)             (None, 6)                 216       \n",
            "                                                                 \n",
            "=================================================================\n",
            "Total params: 61,051\n",
            "Trainable params: 61,051\n",
            "Non-trainable params: 0\n",
            "_________________________________________________________________\n"
          ]
        }
      ],
      "source": [
        "model.summary()"
      ]
    },
    {
      "cell_type": "code",
      "execution_count": 20,
      "metadata": {
        "id": "SnwlyJu5vb_V"
      },
      "outputs": [],
      "source": [
        "training_sentences = sentences[0:training_size]\n",
        "testing_sentences = sentences[training_size:]\n",
        "training_labels = labels[0:training_size]\n",
        "testing_labels = labels[training_size:]\n",
        "\n",
        "\n",
        "tokenizer = Tokenizer(num_words=vocab_size, oov_token=oov_tok)\n",
        "tokenizer.fit_on_texts(training_sentences)\n",
        "\n",
        "word_index = tokenizer.word_index\n",
        "\n",
        "training_sequences = tokenizer.texts_to_sequences(training_sentences)\n",
        "training_padded = pad_sequences(training_sequences, maxlen=max_length, padding=padding_type, truncating=trunc_type)\n",
        "\n",
        "testing_sequences = tokenizer.texts_to_sequences(testing_sentences)\n",
        "testing_padded = pad_sequences(testing_sequences, maxlen=max_length, padding=padding_type, truncating=trunc_type)\n",
        "\n",
        "\n",
        "\n",
        "training_padded = np.array(training_padded)\n",
        "training_labels = np.array(training_labels)\n",
        "testing_padded = np.array(testing_padded)\n",
        "testing_labels = np.array(testing_labels)"
      ]
    },
    {
      "cell_type": "code",
      "execution_count": 24,
      "metadata": {
        "colab": {
          "base_uri": "https://localhost:8080/"
        },
        "id": "ARdPuhrgvb_V",
        "outputId": "5db428a8-190a-4750-afad-1fb288225a01"
      },
      "outputs": [
        {
          "name": "stdout",
          "output_type": "stream",
          "text": [
            "Epoch 1/10\n",
            "5938/5938 - 28s - loss: 0.3597 - accuracy: 0.5087 - val_loss: 0.3563 - val_accuracy: 0.5072 - 28s/epoch - 5ms/step\n",
            "Epoch 2/10\n",
            "5938/5938 - 30s - loss: 0.3600 - accuracy: 0.5087 - val_loss: 0.3565 - val_accuracy: 0.5136 - 30s/epoch - 5ms/step\n",
            "Epoch 3/10\n",
            "5938/5938 - 20s - loss: 0.3596 - accuracy: 0.5085 - val_loss: 0.3561 - val_accuracy: 0.5059 - 20s/epoch - 3ms/step\n",
            "Epoch 4/10\n",
            "5938/5938 - 20s - loss: 0.3590 - accuracy: 0.5101 - val_loss: 0.3558 - val_accuracy: 0.5083 - 20s/epoch - 3ms/step\n",
            "Epoch 5/10\n",
            "5938/5938 - 20s - loss: 0.3591 - accuracy: 0.5105 - val_loss: 0.3561 - val_accuracy: 0.5051 - 20s/epoch - 3ms/step\n",
            "Epoch 6/10\n",
            "5938/5938 - 22s - loss: 0.3588 - accuracy: 0.5099 - val_loss: 0.3569 - val_accuracy: 0.5063 - 22s/epoch - 4ms/step\n"
          ]
        }
      ],
      "source": [
        "num_epochs = 10\n",
        "history = model.fit(training_padded, training_labels, epochs=num_epochs, validation_data=(testing_padded, testing_labels), verbose=2,callbacks=[callback])"
      ]
    },
    {
      "cell_type": "markdown",
      "metadata": {
        "id": "4GoJ50Kwvb_V"
      },
      "source": [
        "We can see that we now obtain a precision of 51%, which is better, by simplifying the emotions, we were able to better aprehend each comment's emotions"
      ]
    },
    {
      "cell_type": "markdown",
      "metadata": {
        "id": "Z3kF9ANKvb_V"
      },
      "source": [
        "# going into the territory of multi-label encoding\n",
        "\n",
        "We've shown that by simplifying emotions, we could get a satisfying result of 51%, but 51% is i believe not the best score possible.\n",
        "\n",
        "We've talked before about the idea that when concatenating the three dataset, we've seen some sentence having multiples labels and we simply ignored the problem by using a sigmoid as the output activation function.\n",
        "We've said to ourselves that emmotions emitted by a text are too complex to classify one text with one emotion ammong 27. and thus, the solution we choose was to simplify the 27 emotions to simpler one.\n",
        "\n",
        "But what if a better and more obvious solution was right under our eyes : letting text having multiple emotions attributed to them.\n",
        "By doing so we would go in the territory of multi-label encoding, the model would have to change a bit, as we would need to put a softmax as output.\n",
        "\n",
        "Let's see how this idea works out.\n",
        "\n",
        "\n",
        "\n"
      ]
    },
    {
      "cell_type": "markdown",
      "metadata": {
        "id": "cuSZCfw_38q8"
      },
      "source": [
        "The following command will sum every identical text, so that now, one text will have several emotions and not just one"
      ]
    },
    {
      "cell_type": "code",
      "execution_count": 48,
      "metadata": {
        "id": "Cw5j0mu3vb_V"
      },
      "outputs": [],
      "source": [
        "df = df[['text',\n",
        " 'admiration',\n",
        " 'amusement',\n",
        " 'anger',\n",
        " 'annoyance',\n",
        " 'approval',\n",
        " 'caring',\n",
        " 'confusion',\n",
        " 'curiosity',\n",
        " 'desire',\n",
        " 'disappointment',\n",
        " 'disapproval',\n",
        " 'disgust',\n",
        " 'embarrassment',\n",
        " 'excitement',\n",
        " 'fear',\n",
        " 'gratitude',\n",
        " 'grief',\n",
        " 'joy',\n",
        " 'love',\n",
        " 'nervousness',\n",
        " 'optimism',\n",
        " 'pride',\n",
        " 'realization',\n",
        " 'relief',\n",
        " 'remorse',\n",
        " 'sadness',\n",
        " 'surprise',\n",
        " 'neutral']].groupby('text').sum()"
      ]
    },
    {
      "cell_type": "code",
      "execution_count": 49,
      "metadata": {
        "id": "qLZxFB224I4H"
      },
      "outputs": [],
      "source": [
        "df[df > 1] = 1\n",
        "df = df.add_suffix('').reset_index()"
      ]
    },
    {
      "cell_type": "code",
      "execution_count": 51,
      "metadata": {
        "id": "t8Y_WO8f4PvM"
      },
      "outputs": [],
      "source": [
        "sentences = df['text']\n",
        "\n",
        "labels=df[[\n",
        " 'admiration',\n",
        " 'amusement',\n",
        " 'anger',\n",
        " 'annoyance',\n",
        " 'approval',\n",
        " 'caring',\n",
        " 'confusion',\n",
        " 'curiosity',\n",
        " 'desire',\n",
        " 'disappointment',\n",
        " 'disapproval',\n",
        " 'disgust',\n",
        " 'embarrassment',\n",
        " 'excitement',\n",
        " 'fear',\n",
        " 'gratitude',\n",
        " 'grief',\n",
        " 'joy',\n",
        " 'love',\n",
        " 'nervousness',\n",
        " 'optimism',\n",
        " 'pride',\n",
        " 'realization',\n",
        " 'relief',\n",
        " 'remorse',\n",
        " 'sadness',\n",
        " 'surprise',\n",
        " 'neutral']]"
      ]
    },
    {
      "cell_type": "markdown",
      "metadata": {
        "id": "fmBmKeqieHzs"
      },
      "source": [
        "Now we can apply the same preprocessing that we applied in our previous models"
      ]
    },
    {
      "cell_type": "code",
      "execution_count": 52,
      "metadata": {
        "id": "n3qkY0jQ65jt"
      },
      "outputs": [],
      "source": [
        "training_sentences = sentences[0:training_size]\n",
        "testing_sentences = sentences[training_size:]\n",
        "training_labels = labels[0:training_size]\n",
        "testing_labels = labels[training_size:]"
      ]
    },
    {
      "cell_type": "code",
      "execution_count": 53,
      "metadata": {
        "id": "EdQ4iEsd661e"
      },
      "outputs": [],
      "source": [
        "tokenizer = Tokenizer(num_words=vocab_size, oov_token=oov_tok)\n",
        "tokenizer.fit_on_texts(training_sentences)\n",
        "\n",
        "word_index = tokenizer.word_index\n",
        "\n",
        "training_sequences = tokenizer.texts_to_sequences(training_sentences)\n",
        "training_padded = pad_sequences(training_sequences, maxlen=max_length, padding=padding_type, truncating=trunc_type)\n",
        "\n",
        "testing_sequences = tokenizer.texts_to_sequences(testing_sentences)\n",
        "testing_padded = pad_sequences(testing_sequences, maxlen=max_length, padding=padding_type, truncating=trunc_type)"
      ]
    },
    {
      "cell_type": "code",
      "execution_count": 54,
      "metadata": {
        "id": "h8AdaGgc7LlX"
      },
      "outputs": [],
      "source": [
        "training_padded = np.array(training_padded)\n",
        "training_labels = np.array(training_labels)\n",
        "testing_padded = np.array(testing_padded)\n",
        "testing_labels = np.array(testing_labels)"
      ]
    },
    {
      "cell_type": "markdown",
      "metadata": {
        "id": "6VAedQ6aeOAj"
      },
      "source": [
        "For this model, i inspired myself of a model used in our last work in the NLP class, which correspond to the actual case, the model is mainly composed of two LSTM layer with a return sequence in the first in order for them to communicate properly. this model takes a veeery long time to run because of the number of units that i used, but it guarantee us a good result"
      ]
    },
    {
      "cell_type": "code",
      "execution_count": 66,
      "metadata": {
        "id": "ESpsMGDhBg8V"
      },
      "outputs": [],
      "source": [
        "callback = tf.keras.callbacks.EarlyStopping(monitor='loss', patience=2)\n",
        "model = tf.keras.Sequential()\n",
        "model.add(tf.keras.layers.Embedding(vocab_size, embedding_dim, input_length=max_length)) #The embedding layer\n",
        "model.add(tf.keras.layers.Bidirectional(tf.keras.layers.LSTM(150,return_sequences=True)))\n",
        "model.add(tf.keras.layers.Bidirectional(tf.keras.layers.LSTM(75))) #Our LSTM layer\n",
        "model.add(tf.keras.layers.Dense(28,activation='sigmoid'))\n",
        "\n",
        "\n",
        "model.compile(optimizer='rmsprop',loss='binary_crossentropy', metrics=[tf.keras.metrics.Precision()])\n"
      ]
    },
    {
      "cell_type": "code",
      "execution_count": 67,
      "metadata": {
        "colab": {
          "base_uri": "https://localhost:8080/"
        },
        "id": "LEbZxM458Ogc",
        "outputId": "a2646edd-79c3-4357-ec37-ede5b28a6dcc"
      },
      "outputs": [
        {
          "name": "stdout",
          "output_type": "stream",
          "text": [
            "Model: \"sequential_7\"\n",
            "_________________________________________________________________\n",
            " Layer (type)                Output Shape              Param #   \n",
            "=================================================================\n",
            " embedding_7 (Embedding)     (None, 80, 16)            16000     \n",
            "                                                                 \n",
            " bidirectional_2 (Bidirectio  (None, 80, 300)          200400    \n",
            " nal)                                                            \n",
            "                                                                 \n",
            " bidirectional_3 (Bidirectio  (None, 150)              225600    \n",
            " nal)                                                            \n",
            "                                                                 \n",
            " dense_12 (Dense)            (None, 28)                4228      \n",
            "                                                                 \n",
            "=================================================================\n",
            "Total params: 446,228\n",
            "Trainable params: 446,228\n",
            "Non-trainable params: 0\n",
            "_________________________________________________________________\n"
          ]
        }
      ],
      "source": [
        "model.summary()"
      ]
    },
    {
      "cell_type": "code",
      "execution_count": 64,
      "metadata": {
        "colab": {
          "base_uri": "https://localhost:8080/"
        },
        "id": "25KoTrjx8TBw",
        "outputId": "f3f300a0-95ef-497c-c4c1-a5329f3ac652"
      },
      "outputs": [
        {
          "data": {
            "text/plain": [
              "(57732, 28)"
            ]
          },
          "execution_count": 64,
          "metadata": {},
          "output_type": "execute_result"
        }
      ],
      "source": [
        "training_labels.shape"
      ]
    },
    {
      "cell_type": "code",
      "execution_count": 68,
      "metadata": {
        "colab": {
          "base_uri": "https://localhost:8080/"
        },
        "id": "EREYwu947Qsc",
        "outputId": "ab045fc2-08d4-4846-9f60-40f429a159f2"
      },
      "outputs": [
        {
          "name": "stdout",
          "output_type": "stream",
          "text": [
            "Epoch 1/10\n",
            "1805/1805 - 893s - loss: 0.2760 - precision_2: 0.6460 - 893s/epoch - 495ms/step\n",
            "Epoch 2/10\n",
            "1805/1805 - 808s - loss: 0.2498 - precision_2: 0.7134 - 808s/epoch - 448ms/step\n",
            "Epoch 3/10\n",
            "1805/1805 - 804s - loss: 0.2382 - precision_2: 0.7318 - 804s/epoch - 445ms/step\n",
            "Epoch 4/10\n",
            "1805/1805 - 821s - loss: 0.2313 - precision_2: 0.7287 - 821s/epoch - 455ms/step\n",
            "Epoch 5/10\n",
            "1805/1805 - 820s - loss: 0.2268 - precision_2: 0.7306 - 820s/epoch - 455ms/step\n",
            "Epoch 6/10\n",
            "1805/1805 - 809s - loss: 0.2237 - precision_2: 0.7324 - 809s/epoch - 448ms/step\n",
            "Epoch 7/10\n",
            "1805/1805 - 819s - loss: 0.2211 - precision_2: 0.7328 - 819s/epoch - 454ms/step\n",
            "Epoch 8/10\n",
            "1805/1805 - 809s - loss: 0.2191 - precision_2: 0.7334 - 809s/epoch - 448ms/step\n",
            "Epoch 9/10\n",
            "1805/1805 - 822s - loss: 0.2172 - precision_2: 0.7352 - 822s/epoch - 455ms/step\n",
            "Epoch 10/10\n",
            "1805/1805 - 830s - loss: 0.2154 - precision_2: 0.7348 - 830s/epoch - 460ms/step\n"
          ]
        }
      ],
      "source": [
        "num_epochs = 10\n",
        "history = model.fit(training_padded, training_labels, epochs=num_epochs, validation_data=(testing_padded, testing_labels), verbose=2,callbacks=[callback])"
      ]
    },
    {
      "cell_type": "code",
      "execution_count": 72,
      "metadata": {
        "colab": {
          "base_uri": "https://localhost:8080/",
          "height": 541
        },
        "id": "pdJ4j1Zqohsg",
        "outputId": "493eef72-7015-485c-a6c8-5d45bd6711d1"
      },
      "outputs": [
        {
          "data": {
            "image/png": "[encoded data removed]",
            "text/plain": [
              "<Figure size 432x288 with 1 Axes>"
            ]
          },
          "metadata": {
            "needs_background": "light"
          },
          "output_type": "display_data"
        },
        {
          "data": {
            "image/png": "[encoded data removed]",
            "text/plain": [
              "<Figure size 432x288 with 1 Axes>"
            ]
          },
          "metadata": {
            "needs_background": "light"
          },
          "output_type": "display_data"
        }
      ],
      "source": [
        "def plot_graphs_bis(history, string):\n",
        "  plt.plot(history.history[string])\n",
        "  #plt.plot(history.history['val_'+string])\n",
        "  plt.xlabel(\"Epochs\")\n",
        "  plt.ylabel(string)\n",
        "  plt.legend([string, 'val_'+string])\n",
        "  plt.show()\n",
        "  \n",
        "plot_graphs_bis(history, \"precision_2\")\n",
        "plot_graphs_bis(history, \"loss\")"
      ]
    },
    {
      "cell_type": "markdown",
      "metadata": {
        "id": "dQ5tXqeafL6H"
      },
      "source": [
        "We can see that we now get a precision of 73,5% which is so much better than the previous model, acknoledging that a text can have multiple emotions is key to makeing the model efficient."
      ]
    }
  ],
  "metadata": {
    "colab": {
      "provenance": []
    },
    "kernelspec": {
      "display_name": "Python 3.10.3 64-bit",
      "language": "python",
      "name": "python3"
    },
    "language_info": {
      "codemirror_mode": {
        "name": "ipython",
        "version": 3
      },
      "file_extension": ".py",
      "mimetype": "text/x-python",
      "name": "python",
      "nbconvert_exporter": "python",
      "pygments_lexer": "ipython3",
      "version": "3.10.3"
    },
    "orig_nbformat": 4,
    "vscode": {
      "interpreter": {
        "hash": "aee8b7b246df8f9039afb4144a1f6fd8d2ca17a180786b69acc140d282b71a49"
      }
    }
  },
  "nbformat": 4,
  "nbformat_minor": 0
}
